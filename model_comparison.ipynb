{
 "cells": [
  {
   "cell_type": "code",
   "execution_count": 1,
   "id": "097e3e85",
   "metadata": {},
   "outputs": [
    {
     "name": "stderr",
     "output_type": "stream",
     "text": [
      "C:\\Users\\kyc_o\\anaconda3\\envs\\dl\\lib\\site-packages\\torchvision\\io\\image.py:13: UserWarning: Failed to load image Python extension: \n",
      "  warn(f\"Failed to load image Python extension: {e}\")\n"
     ]
    },
    {
     "name": "stdout",
     "output_type": "stream",
     "text": [
      "cuda\n"
     ]
    }
   ],
   "source": [
    "import os\n",
    "import torch\n",
    "import torch.nn as nn\n",
    "import torch.nn.functional as F\n",
    "import torch.optim as optim\n",
    "import torchvision.transforms as transforms\n",
    "from torchvision.datasets import ImageFolder\n",
    "\n",
    "USE_CUDA = torch.cuda.is_available()\n",
    "DEVICE = torch.device('cuda' if USE_CUDA else 'cpu')\n",
    "print(DEVICE)\n",
    "BATCH_SIZE = 224"
   ]
  },
  {
   "cell_type": "code",
   "execution_count": 2,
   "id": "8d7c4ded",
   "metadata": {},
   "outputs": [],
   "source": [
    "class Net(nn.Module):\n",
    "    def __init__(self):\n",
    "        \n",
    "        super(Net, self).__init__()\n",
    "        \n",
    "        self.conv1 = nn.Conv2d(3, 32, 3, padding = 1)\n",
    "        self.pool = nn.MaxPool2d(2, 2)\n",
    "        self.conv2 = nn.Conv2d(32, 64, 3, padding = 1)\n",
    "        self.conv3 = nn.Conv2d(64, 64, 3, padding = 1)\n",
    "        \n",
    "        self.fc1 = nn.Linear(4096, 512)\n",
    "        self.fc2 = nn.Linear(512, 450)\n",
    "        \n",
    "    def forward(self, x):\n",
    "        \n",
    "        x = self.conv1(x)\n",
    "        x = F.relu(x)\n",
    "        x = self.pool(x)\n",
    "        x = F.dropout(x, p=0.25, training=self.training)\n",
    "        \n",
    "        x = self.conv2(x)\n",
    "        x = F.relu(x)\n",
    "        x = self.pool(x)\n",
    "        x = F.dropout(x, p=0.25, training=self.training)\n",
    "        \n",
    "        x = self.conv3(x)\n",
    "        x = F.relu(x)\n",
    "        x = self.pool(x)\n",
    "        x = F.dropout(x, p=0.25, training=self.training)\n",
    "        \n",
    "        x = x.view(-1, 4096)\n",
    "        x = self.fc1(x)\n",
    "        x = F.relu(x)\n",
    "        x = F.dropout(x, p=0.5, training=self.training)\n",
    "        x = self.fc2(x)\n",
    "        \n",
    "        return F.log_softmax(x, dim=1)"
   ]
  },
  {
   "cell_type": "code",
   "execution_count": 3,
   "id": "ebf235d4",
   "metadata": {},
   "outputs": [],
   "source": [
    "def evaluate(model, test_loader):\n",
    "    model.eval()\n",
    "    test_loss = 0\n",
    "    correct = 0\n",
    "    \n",
    "    with torch.no_grad():\n",
    "        for data, target in test_loader:\n",
    "            data, target = data.to(DEVICE), target.to(DEVICE)\n",
    "            output = model(data)\n",
    "            \n",
    "            \n",
    "            test_loss += F.cross_entropy(output, target, reduction='sum').item()\n",
    "            \n",
    "            \n",
    "            pred = output.max(1, keepdim=True)[1]\n",
    "            correct += pred.eq(target.view_as(pred)).sum().item()\n",
    "            \n",
    "        test_loss /= len(test_loader.dataset)\n",
    "        test_accuracy = 100. * correct / len(test_loader.dataset)\n",
    "        return test_loss, test_accuracy"
   ]
  },
  {
   "cell_type": "code",
   "execution_count": 4,
   "id": "96c4c498",
   "metadata": {},
   "outputs": [],
   "source": [
    "transform_base = transforms.Compose([transforms.Resize([64, 64]), transforms.ToTensor()])\n",
    "test_dataset = ImageFolder(root='./dataset/test', transform=transform_base)\n",
    "test_loader_base = torch.utils.data.DataLoader(test_dataset, batch_size = BATCH_SIZE, shuffle=True, num_workers=4)"
   ]
  },
  {
   "cell_type": "code",
   "execution_count": 24,
   "id": "a62f357d",
   "metadata": {},
   "outputs": [],
   "source": [
    "transform_resNet = transforms.Compose([\n",
    "    transforms.Resize([64, 64]),\n",
    "    transforms.RandomCrop(52),\n",
    "    transforms.ToTensor(),\n",
    "    transforms.Normalize([0.485, 0.456, 0.406], [0.229, 0.224, 0.225])\n",
    "])\n",
    "\n",
    "test_resNet = ImageFolder(root='./dataset/test', transform=transform_resNet)\n",
    "\n",
    "test_loader_resNet = torch.utils.data.DataLoader(test_resNet, batch_size=BATCH_SIZE, shuffle=True, num_workers=4)"
   ]
  },
  {
   "cell_type": "code",
   "execution_count": 5,
   "id": "ab8fe847",
   "metadata": {},
   "outputs": [],
   "source": [
    "transform_img_aug_1 = transforms.Compose([\n",
    "    transforms.RandomCrop(170),\n",
    "    transforms.Resize([64, 64]),\n",
    "    transforms.ToTensor(),\n",
    "    transforms.Normalize([0.485, 0.456, 0.406], [0.229, 0.224, 0.225])\n",
    "])\n",
    "\n",
    "transform_img_aug_23 = transforms.Compose([\n",
    "    transforms.Resize([64, 64]),\n",
    "    transforms.ToTensor(),\n",
    "    transforms.Normalize([0.485, 0.456, 0.406], [0.229, 0.224, 0.225])\n",
    "])\n",
    "\n",
    "transform_img_aug_4 = transforms.Compose([\n",
    "        transforms.RandomCrop(170),\n",
    "        transforms.Resize([64, 64]),\n",
    "        transforms.ToTensor(),\n",
    "        transforms.Normalize([0.485, 0.456, 0.406], [0.229, 0.224, 0.225])\n",
    "])\n",
    "\n",
    "transform_img_aug_5 = transforms.Compose([\n",
    "        transforms.Resize([224, 224]),\n",
    "        transforms.RandomCrop(200),\n",
    "        transforms.Resize([64, 64]),\n",
    "        transforms.ToTensor(),\n",
    "        transforms.Normalize([0.485, 0.456, 0.406], [0.229, 0.224, 0.225])\n",
    "])\n",
    "\n",
    "transform_img_aug_6 = transforms.Compose([\n",
    "        transforms.Resize([224, 224]),\n",
    "        transforms.RandomCrop(180),\n",
    "        transforms.Resize([64, 64]),\n",
    "        transforms.ToTensor(),\n",
    "        transforms.Normalize([0.485, 0.456, 0.406], [0.229, 0.224, 0.225])\n",
    "])\n",
    "\n",
    "test_dataset_ia_1 = ImageFolder(root='./dataset/test', transform=transform_img_aug_1)\n",
    "test_dataset_ia_23 = ImageFolder(root='./dataset/test', transform=transform_img_aug_23)\n",
    "test_dataset_ia_4 = ImageFolder(root='./dataset/test', transform=transform_img_aug_4)\n",
    "test_dataset_ia_5 = ImageFolder(root='./dataset/test', transform=transform_img_aug_5)\n",
    "test_dataset_ia_6 = ImageFolder(root='./dataset/test', transform=transform_img_aug_6)\n",
    "\n",
    "test_loader_ia_1 = torch.utils.data.DataLoader(test_dataset_ia_1, batch_size = BATCH_SIZE, shuffle=True, num_workers=4)\n",
    "test_loader_ia_23 = torch.utils.data.DataLoader(test_dataset_ia_23, batch_size = BATCH_SIZE, shuffle=True, num_workers=4)\n",
    "test_loader_ia_4 = torch.utils.data.DataLoader(test_dataset_ia_4, batch_size = BATCH_SIZE, shuffle=True, num_workers=4)\n",
    "test_loader_ia_5 = torch.utils.data.DataLoader(test_dataset_ia_5, batch_size = BATCH_SIZE, shuffle=True, num_workers=4)\n",
    "test_loader_ia_6 = torch.utils.data.DataLoader(test_dataset_ia_6, batch_size = BATCH_SIZE, shuffle=True, num_workers=4)"
   ]
  },
  {
   "cell_type": "code",
   "execution_count": 6,
   "id": "0dbdf07e",
   "metadata": {
    "scrolled": true
   },
   "outputs": [
    {
     "name": "stdout",
     "output_type": "stream",
     "text": [
      "baseline test accuracy:  74.53333333333333\n"
     ]
    }
   ],
   "source": [
    "baseline=torch.load('./baseline/baseline.pt')\n",
    "baseline.eval()\n",
    "test_loss, test_accuracy = evaluate(baseline, test_loader_base)\n",
    "\n",
    "print('baseline test accuracy: ', test_accuracy)"
   ]
  },
  {
   "cell_type": "code",
   "execution_count": 9,
   "id": "cd1168b1",
   "metadata": {},
   "outputs": [
    {
     "name": "stdout",
     "output_type": "stream",
     "text": [
      "resNet test accuracy:  93.15555555555555\n"
     ]
    }
   ],
   "source": [
    "resnet50 = torch.load('./transfer/resnet50.pt')\n",
    "resnet50.eval()\n",
    "test_loss, test_accuracy = evaluate(resnet50, test_loader_resNet)\n",
    "\n",
    "print('resNet test accuracy: ', test_accuracy)"
   ]
  },
  {
   "cell_type": "code",
   "execution_count": 12,
   "id": "74b3ac08",
   "metadata": {},
   "outputs": [
    {
     "name": "stdout",
     "output_type": "stream",
     "text": [
      "baseline with more epochs test accuracy:  76.71111111111111\n"
     ]
    }
   ],
   "source": [
    "baseline_pe=torch.load('./baseline_pumped_epoch/baseline_pumped_epoch.pt')\n",
    "baseline_pe.eval()\n",
    "test_loss, test_accuracy = evaluate(baseline_pe, test_loader_base)\n",
    "\n",
    "print('baseline with more epochs test accuracy: ', test_accuracy)"
   ]
  },
  {
   "cell_type": "code",
   "execution_count": 26,
   "id": "17abec40",
   "metadata": {},
   "outputs": [
    {
     "name": "stdout",
     "output_type": "stream",
     "text": [
      "img aug_v1 test accuracy:  56.93333333333333\n"
     ]
    }
   ],
   "source": [
    "baseline_im1=torch.load('./baseline_img_aug_attempt1/baseline.pt')\n",
    "baseline_im1.eval()\n",
    "test_loss, test_accuracy = evaluate(baseline_im1, test_loader_ia_1)\n",
    "\n",
    "print('img aug_v1 test accuracy: ', test_accuracy)"
   ]
  },
  {
   "cell_type": "code",
   "execution_count": 27,
   "id": "ef6cb600",
   "metadata": {},
   "outputs": [
    {
     "name": "stdout",
     "output_type": "stream",
     "text": [
      "img aug_v2 accuracy:  75.82222222222222\n"
     ]
    }
   ],
   "source": [
    "baseline_im2=torch.load('./baseline_img_aug_attempt2/baseline.pt')\n",
    "baseline_im2.eval()\n",
    "test_loss, test_accuracy = evaluate(baseline_im2, test_loader_ia_23)\n",
    "\n",
    "print('img aug_v2 accuracy: ', test_accuracy)"
   ]
  },
  {
   "cell_type": "code",
   "execution_count": 28,
   "id": "72d5aa83",
   "metadata": {},
   "outputs": [
    {
     "name": "stdout",
     "output_type": "stream",
     "text": [
      "img aug_v3 accuracy:  72.62222222222222\n"
     ]
    }
   ],
   "source": [
    "baseline_im3=torch.load('./baseline_img_aug_attempt3/baseline.pt')\n",
    "baseline_im3.eval()\n",
    "test_loss, test_accuracy = evaluate(baseline_im3, test_loader_ia_23)\n",
    "\n",
    "print('img aug_v3 accuracy: ', test_accuracy)"
   ]
  },
  {
   "cell_type": "code",
   "execution_count": 6,
   "id": "bdb254eb",
   "metadata": {},
   "outputs": [
    {
     "name": "stdout",
     "output_type": "stream",
     "text": [
      "img aug_v4 accuracy:  67.06666666666666\n"
     ]
    }
   ],
   "source": [
    "baseline_im4=torch.load('./baseline_img_aug_attempt4/baseline.pt')\n",
    "baseline_im4.eval()\n",
    "test_loss, test_accuracy = evaluate(baseline_im4, test_loader_ia_4)\n",
    "\n",
    "print('img aug_v4 accuracy: ', test_accuracy)"
   ]
  },
  {
   "cell_type": "code",
   "execution_count": 7,
   "id": "7e5200aa",
   "metadata": {},
   "outputs": [
    {
     "name": "stdout",
     "output_type": "stream",
     "text": [
      "img aug_v5 accuracy:  65.24444444444444\n"
     ]
    }
   ],
   "source": [
    "baseline_im5=torch.load('./baseline_img_aug_attempt5/baseline.pt')\n",
    "baseline_im5.eval()\n",
    "test_loss, test_accuracy = evaluate(baseline_im5, test_loader_ia_5)\n",
    "\n",
    "print('img aug_v5 accuracy: ', test_accuracy)"
   ]
  },
  {
   "cell_type": "code",
   "execution_count": 8,
   "id": "01c6b111",
   "metadata": {},
   "outputs": [
    {
     "name": "stdout",
     "output_type": "stream",
     "text": [
      "img aug_v6 accuracy:  64.62222222222222\n"
     ]
    }
   ],
   "source": [
    "baseline_im6=torch.load('./baseline_img_aug_attempt6/baseline.pt')\n",
    "baseline_im6.eval()\n",
    "test_loss, test_accuracy = evaluate(baseline_im6, test_loader_ia_6)\n",
    "\n",
    "print('img aug_v6 accuracy: ', test_accuracy)"
   ]
  },
  {
   "cell_type": "markdown",
   "id": "87f72162",
   "metadata": {},
   "source": [
    "----"
   ]
  },
  {
   "cell_type": "code",
   "execution_count": 10,
   "id": "6db9b823",
   "metadata": {},
   "outputs": [
    {
     "name": "stdout",
     "output_type": "stream",
     "text": [
      "dropout1 test accuracy:  77.33333333333333\n"
     ]
    }
   ],
   "source": [
    "baseline=torch.load('./baseline_dropout1/baseline.pt')\n",
    "baseline.eval()\n",
    "test_loss, test_accuracy = evaluate(baseline, test_loader_ia_23)\n",
    "\n",
    "print('dropout1 test accuracy: ', test_accuracy)"
   ]
  },
  {
   "cell_type": "code",
   "execution_count": 11,
   "id": "75125579",
   "metadata": {},
   "outputs": [
    {
     "name": "stdout",
     "output_type": "stream",
     "text": [
      "dropout2 test accuracy:  72.75555555555556\n"
     ]
    }
   ],
   "source": [
    "baseline=torch.load('./baseline_dropout2/baseline.pt')\n",
    "baseline.eval()\n",
    "test_loss, test_accuracy = evaluate(baseline, test_loader_ia_23)\n",
    "\n",
    "print('dropout2 test accuracy: ', test_accuracy)"
   ]
  },
  {
   "cell_type": "code",
   "execution_count": 12,
   "id": "58242ab9",
   "metadata": {},
   "outputs": [
    {
     "name": "stdout",
     "output_type": "stream",
     "text": [
      "dropout3 test accuracy:  73.37777777777778\n"
     ]
    }
   ],
   "source": [
    "baseline=torch.load('./baseline_dropout3/baseline.pt')\n",
    "baseline.eval()\n",
    "test_loss, test_accuracy = evaluate(baseline, test_loader_ia_23)\n",
    "\n",
    "print('dropout3 test accuracy: ', test_accuracy)"
   ]
  },
  {
   "cell_type": "code",
   "execution_count": 13,
   "id": "1d1fefa1",
   "metadata": {},
   "outputs": [
    {
     "name": "stdout",
     "output_type": "stream",
     "text": [
      "dropout4 test accuracy:  74.26666666666667\n"
     ]
    }
   ],
   "source": [
    "baseline=torch.load('./baseline_dropout4/baseline.pt')\n",
    "baseline.eval()\n",
    "test_loss, test_accuracy = evaluate(baseline, test_loader_ia_23)\n",
    "\n",
    "print('dropout4 test accuracy: ', test_accuracy)"
   ]
  },
  {
   "cell_type": "code",
   "execution_count": 14,
   "id": "c8c8e916",
   "metadata": {},
   "outputs": [
    {
     "name": "stdout",
     "output_type": "stream",
     "text": [
      "dropout5 test accuracy:  76.62222222222222\n"
     ]
    }
   ],
   "source": [
    "baseline=torch.load('./baseline_dropout5/baseline.pt')\n",
    "baseline.eval()\n",
    "test_loss, test_accuracy = evaluate(baseline, test_loader_ia_23)\n",
    "\n",
    "print('dropout5 test accuracy: ', test_accuracy)"
   ]
  },
  {
   "cell_type": "markdown",
   "id": "fafc2864",
   "metadata": {},
   "source": [
    "----"
   ]
  },
  {
   "cell_type": "code",
   "execution_count": 16,
   "id": "8bb094d6",
   "metadata": {},
   "outputs": [
    {
     "name": "stdout",
     "output_type": "stream",
     "text": [
      "fc test accuracy:  74.88888888888889\n"
     ]
    }
   ],
   "source": [
    "baseline=torch.load('./baseline_fc/baseline.pt')\n",
    "baseline.eval()\n",
    "test_loss, test_accuracy = evaluate(baseline, test_loader_base)\n",
    "\n",
    "print('fc test accuracy: ', test_accuracy)"
   ]
  },
  {
   "cell_type": "code",
   "execution_count": 18,
   "id": "80bcc757",
   "metadata": {},
   "outputs": [
    {
     "name": "stdout",
     "output_type": "stream",
     "text": [
      "lr test accuracy:  75.55555555555556\n"
     ]
    }
   ],
   "source": [
    "baseline=torch.load('./baseline_lr/baseline.pt')\n",
    "baseline.eval()\n",
    "test_loss, test_accuracy = evaluate(baseline, test_loader_ia_23)\n",
    "\n",
    "print('lr test accuracy: ', test_accuracy)"
   ]
  },
  {
   "cell_type": "code",
   "execution_count": 19,
   "id": "fbc905ed",
   "metadata": {},
   "outputs": [
    {
     "name": "stdout",
     "output_type": "stream",
     "text": [
      "leaky relu test accuracy:  70.75555555555556\n"
     ]
    }
   ],
   "source": [
    "baseline=torch.load('./baseline_leaky/baseline.pt')\n",
    "baseline.eval()\n",
    "test_loss, test_accuracy = evaluate(baseline, test_loader_ia_23)\n",
    "\n",
    "print('leaky relu test accuracy: ', test_accuracy)"
   ]
  },
  {
   "cell_type": "code",
   "execution_count": null,
   "id": "b42a54d6",
   "metadata": {},
   "outputs": [],
   "source": []
  }
 ],
 "metadata": {
  "kernelspec": {
   "display_name": "Python 3 (ipykernel)",
   "language": "python",
   "name": "python3"
  },
  "language_info": {
   "codemirror_mode": {
    "name": "ipython",
    "version": 3
   },
   "file_extension": ".py",
   "mimetype": "text/x-python",
   "name": "python",
   "nbconvert_exporter": "python",
   "pygments_lexer": "ipython3",
   "version": "3.7.13"
  }
 },
 "nbformat": 4,
 "nbformat_minor": 5
}
